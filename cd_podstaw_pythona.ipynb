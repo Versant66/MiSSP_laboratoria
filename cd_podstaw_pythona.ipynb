{
  "nbformat": 4,
  "nbformat_minor": 0,
  "metadata": {
    "colab": {
      "name": "cd_podstaw_pythona.ipynb",
      "provenance": [],
      "collapsed_sections": []
    },
    "kernelspec": {
      "name": "python3",
      "display_name": "Python 3"
    }
  },
  "cells": [
    {
      "cell_type": "code",
      "metadata": {
        "id": "Qguwj7KUZkz6"
      },
      "source": [
        "challenge 1\r\n",
        "Stworz typ NumerTelefonu\r\n",
        "\r\n",
        "-- przy tworzeniu sprawdza czy właściwy numer (Polski) jeśli nie pisze, że error (ew. Exception)\r\n",
        "\r\n",
        "-- gdy printuję to mi pisze polskimi słowami i.e. \"jeden, pięć, siedem, zero\"\r\n",
        "\r\n",
        "-- gdy wywołuję właściwość wojewodzwtwo, podaje mi wojewodztwo ew. ze to komorkowy"
      ],
      "execution_count": null,
      "outputs": []
    },
    {
      "cell_type": "markdown",
      "metadata": {
        "id": "CxedwKFYbzE8"
      },
      "source": [
        ""
      ]
    },
    {
      "cell_type": "code",
      "metadata": {
        "id": "8xk-UiFDb2ub"
      },
      "source": [
        "## ma na takie rzeczy być w stanie odpowiedzieć\r\n",
        "\r\n",
        "#numer_lodz = NumerTelefonu(\"426877868\")\r\n",
        "#>>> \"prawidlowy numer\"\r\n",
        "\r\n",
        "#numer_lodz.wojewodztwo \r\n",
        "#>>> \"Lodz\"\r\n",
        "\r\n",
        "#print(numer_lodz)\r\n",
        "#>>> \"cztery dwa sześć osiem siedem siedem osiem sześć osiem\""
      ],
      "execution_count": null,
      "outputs": []
    },
    {
      "cell_type": "code",
      "metadata": {
        "colab": {
          "base_uri": "https://localhost:8080/"
        },
        "id": "-G_QhXNdb7ob",
        "outputId": "fb610b82-a78d-4850-d16b-de4786442ad2"
      },
      "source": [
        "#Zadanie\r\n",
        "\r\n",
        "Numer_Kierunkowy = {\"25\":\"Siedlce\",\"29\":\"Ostrołęka\",\"32\":\"Katowice\",\"33\":\"Bielsko-Biała\",\"34\":\"Częstochowa\",\"41\":\"Kielce\",\"42\":\"Łódź\",\"43\":\"Sieradz\" }\r\n",
        "Cyfry = [\"zero\", \"jeden\", \"dwa\", \"trzy\", \"cztery\", \"pięć\", \"sześć\", \"siedem\", \"osiem\", \"dziewięć\"]\r\n",
        "\r\n",
        "\r\n",
        "\r\n",
        "\r\n",
        "class Numer_Telefonu:\r\n",
        "        \r\n",
        "    \"\"\"\r\n",
        "    Sprawdza czy jest to numer telefonu\r\n",
        "    \"\"\"\r\n",
        "    def __init__(self, Numer_Tele):\r\n",
        "        self.Numer_Tele = Numer_Tele\r\n",
        "        if isinstance(self.Numer_Tele, str):  #Coś nie chce działać\r\n",
        "            print('Niepoprawny numer telefonu')\r\n",
        "        elif len(str(self.Numer_Tele)) != 9:\r\n",
        "            print('Niepoprawny numer telefonu')\r\n",
        "        else:\r\n",
        "            print('Poprawny numer telefonu')\r\n",
        "        \r\n",
        "        print(\"-\"*20)\r\n",
        "\r\n",
        "    def Miasto(self):\r\n",
        "        \"\"\"\r\n",
        "        Miasto numeru kierunkowego\r\n",
        "        \"\"\"\r\n",
        "        prefix = str(self.Numer_Tele)[0:2]\r\n",
        "        print(\"Numer Kierunkowy\", Numer_Kierunkowy.get(prefix))\r\n",
        "      \r\n",
        "        print(\"-\"*20)\r\n",
        "\r\n",
        "    def Wypisz_numer(self):\r\n",
        "        \"\"\"\r\n",
        "        Wypisz numer telefonu jako cyfry\r\n",
        "        \"\"\"\r\n",
        "        for Cyfr in str(self.Numer_Tele):\r\n",
        "            print(Cyfry[int(Cyfr)], end = ' ' )\r\n",
        "\r\n",
        "       \r\n",
        "\r\n",
        "def main():\r\n",
        "\r\n",
        "    Numer = Numer_Telefonu(292453235)\r\n",
        "    Numer.Miasto()\r\n",
        "    Numer.Wypisz_numer()\r\n",
        "\r\n",
        "\r\n",
        "if __name__ == '__main__':\r\n",
        "    try:\r\n",
        "        main()\r\n",
        "    except Exception as e:\r\n",
        "        log.exception(e)\r\n",
        "        sys.exit(1)"
      ],
      "execution_count": 2,
      "outputs": [
        {
          "output_type": "stream",
          "text": [
            "Niepoprawny numer telefonu\n",
            "--------------------\n",
            "Numer Kierunkowy Ostrołęka\n",
            "--------------------\n",
            "dwa dziewięć dwa cztery pięć trzy dwa trzy pięć siedem "
          ],
          "name": "stdout"
        }
      ]
    }
  ]
}