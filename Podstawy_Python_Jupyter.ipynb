{
  "nbformat": 4,
  "nbformat_minor": 0,
  "metadata": {
    "colab": {
      "name": "Podstawy_Python_Jupyter.ipynb",
      "provenance": [],
      "collapsed_sections": []
    },
    "kernelspec": {
      "name": "python3",
      "display_name": "Python 3"
    }
  },
  "cells": [
    {
      "cell_type": "code",
      "metadata": {
        "id": "uFh0-9GOM9uf"
      },
      "source": [
        "# challenge 0.1\r\n",
        "\r\n",
        "zajecia = [\"wf\",\"informatyka\",\"relax\",\"mispy\",\"piateczek\"]\r\n",
        "\r\n",
        "dnityg = [\"Pon\",\"Wto\",\"Sro\",\"Czwar\",\"Pio\"]\r\n",
        "\r\n",
        "# wyprintuj zajecia od srody do piatku\r\n",
        "# wyprintuj oprocz srody"
      ],
      "execution_count": 1,
      "outputs": []
    },
    {
      "cell_type": "code",
      "metadata": {
        "colab": {
          "base_uri": "https://localhost:8080/"
        },
        "id": "vu2ZsEIPOUyz",
        "outputId": "f4806b7d-1fef-4249-c129-f9e8f0b6cd1c"
      },
      "source": [
        "#### challenge 0.1\r\n",
        "\r\n",
        "# zajecia od srody do piatku\r\n",
        "\r\n",
        "for (przedmiot, dzien_tygodnia) in (zip(zajecia[2 :],dnityg[2 :])):\r\n",
        "    print(\"{} w {}\".format(przedmiot,dzien_tygodnia))\r\n",
        "\r\n",
        "\r\n",
        "print('--'*10)\r\n",
        "\r\n",
        "# oprocz srody\r\n",
        "\r\n",
        "for (przedmiot, dzien_tygodnia) in (zip(zajecia,dnityg)):\r\n",
        "  if dni_tygodnia!=\"Sro\":\r\n",
        "    print(\"{} w {}\".format(przedmiot,dzien_tygodnia))"
      ],
      "execution_count": 11,
      "outputs": [
        {
          "output_type": "stream",
          "text": [
            "relax w Sro\n",
            "mispy w Czwar\n",
            "piateczek w Pio\n",
            "--------------------\n",
            "wf w Pon\n",
            "informatyka w Wto\n",
            "relax w Sro\n",
            "mispy w Czwar\n",
            "piateczek w Pio\n"
          ],
          "name": "stdout"
        }
      ]
    },
    {
      "cell_type": "code",
      "metadata": {
        "id": "i7YBYKvgP096"
      },
      "source": [
        "#### challenge 0.2\r\n",
        "\r\n",
        "zajecia = [[\"wf\"],\r\n",
        "           [\"informatyka\", \"nauka czytania\"],\r\n",
        "           [\"relax\", \"jedzenie\"],\r\n",
        "           [\"mispy\",\"mispy w domu\"],\r\n",
        "           [\"piateczek\", \"praca domowa z mispow\", \"Ilovemispy\", \"mispy w czasie snu\"]\r\n",
        "          ]\r\n",
        "\r\n",
        "dnityg= [\"Pon\",\"Wto\",\"Sro\",\"Czwar\",\"Pio\"]\r\n",
        "\r\n",
        "# zdefiniuj funkcje ktora poda ile jest zajec danego dnia\r\n",
        "# lista_zajec_z_dnia -> ile ich jest\r\n",
        "\r\n",
        "# po\r\n",
        "# posortuj dni po najbardziej zajetych\r\n",
        "\r\n",
        "\r\n",
        "#### challenge 0.3\r\n",
        "\r\n",
        "# napisz program ktory zdajdzie dzien z najwieksza iloscia mispow"
      ],
      "execution_count": 12,
      "outputs": []
    },
    {
      "cell_type": "code",
      "metadata": {
        "colab": {
          "base_uri": "https://localhost:8080/"
        },
        "id": "mFrG6xhjQC06",
        "outputId": "aee7c916-b4b1-4417-9e0a-5bcbf0b58301"
      },
      "source": [
        "# zdefiniuj funkcje ktora poda ile jest zajec danego dnia\r\n",
        "\r\n",
        "\r\n",
        "\r\n",
        "def ile_zajec(x):  \r\n",
        "  if (x == \"Pon\"):\r\n",
        "    print(\"są {} zajecia w {}\".format(len(zajecia[0]),dnityg[0]))\r\n",
        "  elif (x == \"Wto\"):\r\n",
        "    print(\"są {} zajecia w {}\".format(len(zajecia[1]),dnityg[1]))\r\n",
        "  elif (x == \"Sro\"):\r\n",
        "    print(\"są {} zajecia w {}\".format(len(zajecia[2]),dnityg[2]))\r\n",
        "  elif (x == \"Czwar\"):\r\n",
        "    print(\"są {} zajecia w {}\".format(len(zajecia[3]),dnityg[3]))\r\n",
        "  else:\r\n",
        "    print(\"są {} zajecia w {}\".format(len(zajecia[4]),dnityg[4]))\r\n",
        "\r\n",
        "ile_zajec(\"Pon\")\r\n",
        "ile_zajec(\"Wto\")\r\n",
        "ile_zajec(\"Sro\")\r\n",
        "ile_zajec(\"Czwar\")\r\n",
        "ile_zajec(\"Pio\")\r\n",
        "\r\n"
      ],
      "execution_count": 25,
      "outputs": [
        {
          "output_type": "stream",
          "text": [
            "są 1 zajecia w Pon\n",
            "są 2 zajecia w Wto\n",
            "są 2 zajecia w Sro\n",
            "są 2 zajecia w Czwar\n",
            "są 4 zajecia w Pio\n"
          ],
          "name": "stdout"
        }
      ]
    },
    {
      "cell_type": "code",
      "metadata": {
        "colab": {
          "base_uri": "https://localhost:8080/"
        },
        "id": "HeTDB8PtSVnK",
        "outputId": "83ca15ea-db6f-4d77-9f56-11c58d2ccddb"
      },
      "source": [
        "# lista_zajec_z_dnia -> ile ich jest\r\n",
        "\r\n",
        "def co_zaj(y):  \r\n",
        "  if (y == \"Pon\"):\r\n",
        "    print(\"są {} zajecia w {} lista: {}\".format(len(zajecia[0]),dnityg[0],zajecia[0]))\r\n",
        "  elif (y == \"Wto\"):\r\n",
        "    print(\"są {} zajecia w {} lista: {}\".format(len(zajecia[1]),dnityg[1],zajecia[1]))\r\n",
        "  elif (y == \"Sro\"):\r\n",
        "    print(\"są {} zajecia w {} lista: {}\".format(len(zajecia[2]),dnityg[2],zajecia[2]))\r\n",
        "  elif (y == \"Czwar\"):\r\n",
        "    print(\"są {} zajecia w {} lista: {}\".format(len(zajecia[3]),dnityg[3],zajecia[3]))\r\n",
        "  else:\r\n",
        "    print(\"są {} zajecia w {} lista: {}\".format(len(zajecia[4]),dnityg[4],zajecia[4]))\r\n",
        "\r\n",
        "co_zaj(\"Pon\")\r\n",
        "co_zaj(\"Wto\")\r\n",
        "co_zaj(\"Sro\")\r\n",
        "co_zaj(\"Czwar\")\r\n",
        "co_zaj(\"Pio\")"
      ],
      "execution_count": 23,
      "outputs": [
        {
          "output_type": "stream",
          "text": [
            "są 1 zajecia w Pon lista ['wf']\n",
            "są 2 zajecia w Wto lista ['informatyka', 'nauka czytania']\n",
            "są 2 zajecia w Sro lista ['relax', 'jedzenie']\n",
            "są 2 zajecia w Czwar lista ['mispy', 'mispy w domu']\n",
            "są 4 zajecia w Pio lista ['piateczek', 'praca domowa z mispow', 'Ilovemispy', 'mispy w czasie snu']\n"
          ],
          "name": "stdout"
        }
      ]
    },
    {
      "cell_type": "code",
      "metadata": {
        "colab": {
          "base_uri": "https://localhost:8080/"
        },
        "id": "7cNH4Zn0WSkq",
        "outputId": "0af3ab5e-f463-4dca-8690-e857aa165877"
      },
      "source": [
        "# posortuj dni po najbardziej zajetych\r\n",
        "\r\n",
        "ile_zaj_cyfry=[]\r\n",
        "for (przedmiot,dzientyg) in (zip(zajecia,dnityg)):\r\n",
        "    ile_zaj=[len(przedmiot),dzientyg]\r\n",
        "    ile_zaj_cyfry.append(ile_zaj)\r\n",
        "\r\n",
        "\r\n",
        "ile_zaj_cyfry.sort(reverse=True)\r\n",
        "\r\n",
        "print(\"{} \".format(ile_zaj_cyfry))\r\n",
        "    \r\n"
      ],
      "execution_count": 30,
      "outputs": [
        {
          "output_type": "stream",
          "text": [
            "[[4, 'Pio'], [2, 'Wto'], [2, 'Sro'], [2, 'Czwar'], [1, 'Pon']] \n"
          ],
          "name": "stdout"
        }
      ]
    },
    {
      "cell_type": "code",
      "metadata": {
        "colab": {
          "base_uri": "https://localhost:8080/"
        },
        "id": "orSwFOEUWfXC",
        "outputId": "ca34b173-f4c5-435d-efcc-7efd55596964"
      },
      "source": [
        "# napisz program ktory zdajdzie dzien z najwieksza iloscia mispow\r\n",
        "\r\n",
        "Misp=[]\r\n",
        "ile_misp=[]\r\n",
        "for (przedmioty,dzientyg) in (zip(zajecia,dnityg)):\r\n",
        "    for przedmiot in przedmioty:\r\n",
        "        Misp.append(przedmiot.count(\"misp\"))\r\n",
        "    ile_misp.append(Misp.count(1))\r\n",
        "    Misp=[]\r\n",
        "\r\n",
        "ile_misp= sorted(ile_misp,reverse=True)\r\n",
        "\r\n",
        "print (\"w {} są {} zajecia z MISP\".format(dzientyg,ile_misp[0]))\r\n",
        "\r\n",
        "\r\n",
        "\r\n",
        "    \r\n"
      ],
      "execution_count": 34,
      "outputs": [
        {
          "output_type": "stream",
          "text": [
            "w Pio są 3 zajecia z MISP\n"
          ],
          "name": "stdout"
        }
      ]
    }
  ]
}