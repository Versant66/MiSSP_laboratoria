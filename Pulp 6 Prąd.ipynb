{
  "nbformat": 4,
  "nbformat_minor": 0,
  "metadata": {
    "colab": {
      "name": "Untitled6.ipynb",
      "provenance": []
    },
    "kernelspec": {
      "name": "python3",
      "display_name": "Python 3"
    }
  },
  "cells": [
    {
      "cell_type": "code",
      "metadata": {
        "colab": {
          "base_uri": "https://localhost:8080/"
        },
        "id": "T6mc8c3J3YqC",
        "outputId": "70b821ad-91b4-445d-be16-2b7a3b10ac9c"
      },
      "source": [
        "!pip install pulp\r\n",
        "\r\n",
        "!sudo apt-get install coinor-cbc glpk-utils coinor-clp"
      ],
      "execution_count": 2,
      "outputs": [
        {
          "output_type": "stream",
          "text": [
            "Collecting pulp\n",
            "\u001b[?25l  Downloading https://files.pythonhosted.org/packages/14/c4/0eec14a0123209c261de6ff154ef3be5cad3fd557c084f468356662e0585/PuLP-2.4-py3-none-any.whl (40.6MB)\n",
            "\u001b[K     |████████████████████████████████| 40.6MB 99kB/s \n",
            "\u001b[?25hCollecting amply>=0.1.2\n",
            "  Downloading https://files.pythonhosted.org/packages/f3/c5/dfa09dd2595a2ab2ab4e6fa7bebef9565812722e1980d04b0edce5032066/amply-0.1.4-py3-none-any.whl\n",
            "Requirement already satisfied: pyparsing in /usr/local/lib/python3.6/dist-packages (from amply>=0.1.2->pulp) (2.4.7)\n",
            "Requirement already satisfied: docutils>=0.3 in /usr/local/lib/python3.6/dist-packages (from amply>=0.1.2->pulp) (0.16)\n",
            "Installing collected packages: amply, pulp\n",
            "Successfully installed amply-0.1.4 pulp-2.4\n",
            "Reading package lists... Done\n",
            "Building dependency tree       \n",
            "Reading state information... Done\n",
            "The following additional packages will be installed:\n",
            "  coinor-libcbc3 coinor-libcgl1 coinor-libclp1 coinor-libcoinutils3v5\n",
            "  coinor-libosi1v5 libamd2 libcolamd2 libglpk40 libsuitesparseconfig5\n",
            "Suggested packages:\n",
            "  libiodbc2-dev default-libmysqlclient-dev\n",
            "The following NEW packages will be installed:\n",
            "  coinor-cbc coinor-clp coinor-libcbc3 coinor-libcgl1 coinor-libclp1\n",
            "  coinor-libcoinutils3v5 coinor-libosi1v5 glpk-utils libamd2 libcolamd2\n",
            "  libglpk40 libsuitesparseconfig5\n",
            "0 upgraded, 12 newly installed, 0 to remove and 15 not upgraded.\n",
            "Need to get 3,439 kB of archives.\n",
            "After this operation, 9,832 kB of additional disk space will be used.\n",
            "Get:1 http://archive.ubuntu.com/ubuntu bionic/main amd64 libsuitesparseconfig5 amd64 1:5.1.2-2 [9,044 B]\n",
            "Get:2 http://archive.ubuntu.com/ubuntu bionic/main amd64 libamd2 amd64 1:5.1.2-2 [19.5 kB]\n",
            "Get:3 http://archive.ubuntu.com/ubuntu bionic/main amd64 libcolamd2 amd64 1:5.1.2-2 [16.2 kB]\n",
            "Get:4 http://archive.ubuntu.com/ubuntu bionic/universe amd64 libglpk40 amd64 4.65-1 [378 kB]\n",
            "Get:5 http://archive.ubuntu.com/ubuntu bionic/universe amd64 glpk-utils amd64 4.65-1 [269 kB]\n",
            "Get:6 http://archive.ubuntu.com/ubuntu bionic/universe amd64 coinor-libcoinutils3v5 amd64 2.10.14+repack1-1 [472 kB]\n",
            "Get:7 http://archive.ubuntu.com/ubuntu bionic/universe amd64 coinor-libosi1v5 amd64 0.107.9+repack1-1 [270 kB]\n",
            "Get:8 http://archive.ubuntu.com/ubuntu bionic/universe amd64 coinor-libclp1 amd64 1.16.11+repack1-1 [863 kB]\n",
            "Get:9 http://archive.ubuntu.com/ubuntu bionic/universe amd64 coinor-libcgl1 amd64 0.59.10+repack1-1 [433 kB]\n",
            "Get:10 http://archive.ubuntu.com/ubuntu bionic/universe amd64 coinor-libcbc3 amd64 2.9.9+repack1-1 [687 kB]\n",
            "Get:11 http://archive.ubuntu.com/ubuntu bionic/universe amd64 coinor-cbc amd64 2.9.9+repack1-1 [11.2 kB]\n",
            "Get:12 http://archive.ubuntu.com/ubuntu bionic/universe amd64 coinor-clp amd64 1.16.11+repack1-1 [9,646 B]\n",
            "Fetched 3,439 kB in 1s (2,419 kB/s)\n",
            "debconf: unable to initialize frontend: Dialog\n",
            "debconf: (No usable dialog-like program is installed, so the dialog based frontend cannot be used. at /usr/share/perl5/Debconf/FrontEnd/Dialog.pm line 76, <> line 12.)\n",
            "debconf: falling back to frontend: Readline\n",
            "debconf: unable to initialize frontend: Readline\n",
            "debconf: (This frontend requires a controlling tty.)\n",
            "debconf: falling back to frontend: Teletype\n",
            "dpkg-preconfigure: unable to re-open stdin: \n",
            "Selecting previously unselected package libsuitesparseconfig5:amd64.\n",
            "(Reading database ... 145480 files and directories currently installed.)\n",
            "Preparing to unpack .../00-libsuitesparseconfig5_1%3a5.1.2-2_amd64.deb ...\n",
            "Unpacking libsuitesparseconfig5:amd64 (1:5.1.2-2) ...\n",
            "Selecting previously unselected package libamd2:amd64.\n",
            "Preparing to unpack .../01-libamd2_1%3a5.1.2-2_amd64.deb ...\n",
            "Unpacking libamd2:amd64 (1:5.1.2-2) ...\n",
            "Selecting previously unselected package libcolamd2:amd64.\n",
            "Preparing to unpack .../02-libcolamd2_1%3a5.1.2-2_amd64.deb ...\n",
            "Unpacking libcolamd2:amd64 (1:5.1.2-2) ...\n",
            "Selecting previously unselected package libglpk40:amd64.\n",
            "Preparing to unpack .../03-libglpk40_4.65-1_amd64.deb ...\n",
            "Unpacking libglpk40:amd64 (4.65-1) ...\n",
            "Selecting previously unselected package glpk-utils.\n",
            "Preparing to unpack .../04-glpk-utils_4.65-1_amd64.deb ...\n",
            "Unpacking glpk-utils (4.65-1) ...\n",
            "Selecting previously unselected package coinor-libcoinutils3v5.\n",
            "Preparing to unpack .../05-coinor-libcoinutils3v5_2.10.14+repack1-1_amd64.deb ...\n",
            "Unpacking coinor-libcoinutils3v5 (2.10.14+repack1-1) ...\n",
            "Selecting previously unselected package coinor-libosi1v5.\n",
            "Preparing to unpack .../06-coinor-libosi1v5_0.107.9+repack1-1_amd64.deb ...\n",
            "Unpacking coinor-libosi1v5 (0.107.9+repack1-1) ...\n",
            "Selecting previously unselected package coinor-libclp1.\n",
            "Preparing to unpack .../07-coinor-libclp1_1.16.11+repack1-1_amd64.deb ...\n",
            "Unpacking coinor-libclp1 (1.16.11+repack1-1) ...\n",
            "Selecting previously unselected package coinor-libcgl1.\n",
            "Preparing to unpack .../08-coinor-libcgl1_0.59.10+repack1-1_amd64.deb ...\n",
            "Unpacking coinor-libcgl1 (0.59.10+repack1-1) ...\n",
            "Selecting previously unselected package coinor-libcbc3.\n",
            "Preparing to unpack .../09-coinor-libcbc3_2.9.9+repack1-1_amd64.deb ...\n",
            "Unpacking coinor-libcbc3 (2.9.9+repack1-1) ...\n",
            "Selecting previously unselected package coinor-cbc.\n",
            "Preparing to unpack .../10-coinor-cbc_2.9.9+repack1-1_amd64.deb ...\n",
            "Unpacking coinor-cbc (2.9.9+repack1-1) ...\n",
            "Selecting previously unselected package coinor-clp.\n",
            "Preparing to unpack .../11-coinor-clp_1.16.11+repack1-1_amd64.deb ...\n",
            "Unpacking coinor-clp (1.16.11+repack1-1) ...\n",
            "Setting up libsuitesparseconfig5:amd64 (1:5.1.2-2) ...\n",
            "Setting up libcolamd2:amd64 (1:5.1.2-2) ...\n",
            "Setting up coinor-libcoinutils3v5 (2.10.14+repack1-1) ...\n",
            "Setting up coinor-libosi1v5 (0.107.9+repack1-1) ...\n",
            "Setting up coinor-libclp1 (1.16.11+repack1-1) ...\n",
            "Setting up libamd2:amd64 (1:5.1.2-2) ...\n",
            "Setting up coinor-libcgl1 (0.59.10+repack1-1) ...\n",
            "Setting up libglpk40:amd64 (4.65-1) ...\n",
            "Setting up coinor-clp (1.16.11+repack1-1) ...\n",
            "Setting up coinor-libcbc3 (2.9.9+repack1-1) ...\n",
            "Setting up glpk-utils (4.65-1) ...\n",
            "Setting up coinor-cbc (2.9.9+repack1-1) ...\n",
            "Processing triggers for man-db (2.8.3-2ubuntu0.1) ...\n",
            "Processing triggers for libc-bin (2.27-3ubuntu1.2) ...\n",
            "/sbin/ldconfig.real: /usr/local/lib/python3.6/dist-packages/ideep4py/lib/libmkldnn.so.0 is not a symbolic link\n",
            "\n"
          ],
          "name": "stdout"
        }
      ]
    },
    {
      "cell_type": "code",
      "metadata": {
        "colab": {
          "base_uri": "https://localhost:8080/"
        },
        "id": "eCd3O__50W6v",
        "outputId": "9496d18a-3ee0-424b-9fa6-8d1ec8c33e7d"
      },
      "source": [
        "from pulp import *\r\n",
        "import pandas as pd\r\n",
        "prob = LpProblem(\"Mostek\",LpMinimize)\r\n",
        "\r\n",
        "I1 = LpVariable(\"Prąd1\",0)\r\n",
        "I2 = LpVariable(\"Prąd2\",0)\r\n",
        "I3 = LpVariable(\"Prąd3\",0)\r\n",
        "I4 = LpVariable(\"Prąd4\",0)\r\n",
        "I5 = LpVariable(\"Prąd5\",0)\r\n",
        "\r\n",
        "\r\n",
        "prob += 6*I1 + 10*I2 + 4*I3 + 7*I4 + 3*I5, \"Moc\"\r\n",
        "prob += 3 <= I1, \"Prąd1 min\"\r\n",
        "prob += I1 <= 5, \"Prąd1 max\"\r\n",
        "prob += 1 <= I2, \"Prąd2 min\"\r\n",
        "prob += I2 <= 3, \"Prąd2 max\"\r\n",
        "prob += 1 <= I3, \"Prąd3 min\"\r\n",
        "prob += I3 <= 3, \"Prąd3 max\"\r\n",
        "prob += 1 <= I4, \"Prąd4 min\"\r\n",
        "prob += I4 <= 3, \"Prąd4 max\"\r\n",
        "prob += 3 <= I5, \"Prąd5 min\"\r\n",
        "prob += I5 <= 5, \"Prąd5 max\"\r\n",
        "\r\n",
        "prob.writeLP(\"MostekModel.lp\")\r\n",
        "prob.solve()\r\n",
        "\r\n",
        "print (\"Status:\", LpStatus[prob.status])\r\n",
        "\r\n",
        "for v in prob.variables():\r\n",
        "    print (v.name, \"=\", v.varValue,\"A,\")"
      ],
      "execution_count": 3,
      "outputs": [
        {
          "output_type": "stream",
          "text": [
            "Status: Optimal\n",
            "Prąd1 = 3.0 A,\n",
            "Prąd2 = 1.0 A,\n",
            "Prąd3 = 1.0 A,\n",
            "Prąd4 = 1.0 A,\n",
            "Prąd5 = 3.0 A,\n"
          ],
          "name": "stdout"
        }
      ]
    },
    {
      "cell_type": "code",
      "metadata": {
        "colab": {
          "base_uri": "https://localhost:8080/"
        },
        "id": "81S9MF2E4CiA",
        "outputId": "9a310542-0b8a-47db-8df0-b0e4eff2280b"
      },
      "source": [
        "from pulp import *\r\n",
        "prob = LpProblem(\"Moc r\",LpMinimize)\r\n",
        "I1=LpVariable(\"I1\",3,5)\r\n",
        "I2=LpVariable(\"I2\",1,3)\r\n",
        "I3=LpVariable(\"I3\",1,3)\r\n",
        "I4=LpVariable(\"I4\",1,3)\r\n",
        "I5=LpVariable(\"I5\",3,5)\r\n",
        "U=[6, 10, 4, 7, 3]\r\n",
        "\r\n",
        "prob += U[0] * I1 + U[1] * I2 + U[2] * I3 + U[3] * I4 + U[4] * I5, \"moc wyjsciowa\"\r\n",
        "\r\n",
        "prob += I1 - I4 - I3 == 0, \"węzeł 1\"\r\n",
        "prob += I2 + I3 - I5 == 0, \"węzeł 2\"\r\n",
        "\r\n",
        "prob.writeLP(\"Moc r.lp\")\r\n",
        "prob.solve()\r\n",
        "print(\"Status:\", LpStatus[prob.status])\r\n",
        "for v in prob.variables():\r\n",
        "    print(v.name, \"=\", v.varValue)"
      ],
      "execution_count": 9,
      "outputs": [
        {
          "output_type": "stream",
          "text": [
            "Status: Optimal\n",
            "I1 = 3.0\n",
            "I2 = 1.0\n",
            "I3 = 2.0\n",
            "I4 = 1.0\n",
            "I5 = 3.0\n"
          ],
          "name": "stdout"
        },
        {
          "output_type": "stream",
          "text": [
            "/usr/local/lib/python3.6/dist-packages/pulp/pulp.py:1199: UserWarning: Spaces are not permitted in the name. Converted to '_'\n",
            "  warnings.warn(\"Spaces are not permitted in the name. Converted to '_'\")\n"
          ],
          "name": "stderr"
        }
      ]
    }
  ]
}